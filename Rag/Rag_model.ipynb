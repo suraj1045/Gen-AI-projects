{
 "cells": [
  {
   "cell_type": "markdown",
   "id": "1770667d",
   "metadata": {},
   "source": [
    "### Developing a retrieval-augmented question answering(QA) system for biomedical queries by combining domain-specific documentation retrieval language model(LLM). Fetch relevant information from PubMed abstracts ans use it to generate accurate answers to clinical questions."
   ]
  },
  {
   "cell_type": "code",
   "execution_count": null,
   "id": "b6f2c774",
   "metadata": {
    "vscode": {
     "languageId": "plaintext"
    }
   },
   "outputs": [],
   "source": []
  }
 ],
 "metadata": {
  "language_info": {
   "name": "python"
  }
 },
 "nbformat": 4,
 "nbformat_minor": 5
}
