{
 "cells": [
  {
   "cell_type": "markdown",
   "id": "b8076597",
   "metadata": {},
   "source": [
    "## Utilizing a pre-trained transformer model from hugging face's transformer library to perform sentiment analysis. Evalute real-world review datasets and interpret the model's predictions."
   ]
  },
  {
   "cell_type": "markdown",
   "id": "63074115",
   "metadata": {},
   "source": [
    "*Transformer library for sentiment analysis*:- "
   ]
  },
  {
   "cell_type": "code",
   "execution_count": null,
   "id": "c8a10de5",
   "metadata": {
    "vscode": {
     "languageId": "plaintext"
    }
   },
   "outputs": [],
   "source": []
  }
 ],
 "metadata": {
  "language_info": {
   "name": "python"
  }
 },
 "nbformat": 4,
 "nbformat_minor": 5
}
